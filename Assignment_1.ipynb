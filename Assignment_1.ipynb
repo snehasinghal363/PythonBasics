{
  "nbformat": 4,
  "nbformat_minor": 0,
  "metadata": {
    "colab": {
      "provenance": []
    },
    "kernelspec": {
      "name": "python3",
      "display_name": "Python 3"
    },
    "language_info": {
      "name": "python"
    }
  },
  "cells": [
    {
      "cell_type": "markdown",
      "source": [
        "# **PRACTICAL** QUESTIONS"
      ],
      "metadata": {
        "id": "c6UuSfQNjd6Z"
      }
    },
    {
      "cell_type": "code",
      "source": [
        "# QUES-1\n",
        "print(\"Hello World\")"
      ],
      "metadata": {
        "colab": {
          "base_uri": "https://localhost:8080/"
        },
        "id": "oZwgGc06jr-9",
        "outputId": "36de8b4d-4ee1-47e0-9e48-6b817e0edea0"
      },
      "execution_count": null,
      "outputs": [
        {
          "output_type": "stream",
          "name": "stdout",
          "text": [
            "Hello World\n"
          ]
        }
      ]
    },
    {
      "cell_type": "code",
      "source": [
        "#QUES-2\n",
        "Name = \"Sneha Singhal\"\n",
        "Age = 21\n",
        "print(f\"My Name is {Name}\")\n",
        "print(f\"My Age is {Age}\")"
      ],
      "metadata": {
        "id": "V7OzQJXfl8qg",
        "colab": {
          "base_uri": "https://localhost:8080/"
        },
        "outputId": "0ec3862a-1824-432f-a904-497dc753de80"
      },
      "execution_count": null,
      "outputs": [
        {
          "output_type": "stream",
          "name": "stdout",
          "text": [
            "My Name is Sneha Singhal\n",
            "My Age is 21\n"
          ]
        }
      ]
    },
    {
      "cell_type": "code",
      "source": [
        "# QUES-3\n",
        "import keyword\n",
        "print(keyword.kwlist)"
      ],
      "metadata": {
        "colab": {
          "base_uri": "https://localhost:8080/"
        },
        "id": "7DIEeUpHm9L7",
        "outputId": "3f474b93-6602-4bd8-804e-c5604bcaf092"
      },
      "execution_count": null,
      "outputs": [
        {
          "output_type": "stream",
          "name": "stdout",
          "text": [
            "['False', 'None', 'True', 'and', 'as', 'assert', 'async', 'await', 'break', 'class', 'continue', 'def', 'del', 'elif', 'else', 'except', 'finally', 'for', 'from', 'global', 'if', 'import', 'in', 'is', 'lambda', 'nonlocal', 'not', 'or', 'pass', 'raise', 'return', 'try', 'while', 'with', 'yield']\n"
          ]
        }
      ]
    },
    {
      "cell_type": "code",
      "source": [
        "# QUES-4\n",
        "import keyword\n",
        "word = input(\"Enter a word to check if it's a Python keyword: \")\n",
        "if keyword.iskeyword(word):\n",
        "    print(f\"{word} is a Python keyword.\")\n",
        "else:\n",
        "    print(f\"{word} is NOT a Python keyword.\")\n"
      ],
      "metadata": {
        "colab": {
          "base_uri": "https://localhost:8080/"
        },
        "id": "zVd5JGHSoeVZ",
        "outputId": "0816c16f-8201-43c6-80f2-2701d79a3393"
      },
      "execution_count": null,
      "outputs": [
        {
          "output_type": "stream",
          "name": "stdout",
          "text": [
            "Enter a word to check if it's a Python keyword: is\n",
            "is is a Python keyword.\n"
          ]
        }
      ]
    },
    {
      "cell_type": "code",
      "source": [
        "#Ques-5\n",
        "list_1=[1,2,3,\"Sneha\",\"Data Science\"]\n",
        "print(list_1)\n",
        "list_1[3]=\"pw skills\"\n",
        "print(list_1)\n",
        "\n",
        "# Tuple\n",
        "\n",
        "tuple_1=(1,2,3,\"Sneha\",\"Data Science\")\n",
        "print(tuple_1)\n",
        "#tuple_1[3]=\"pw skills\"\n",
        "#print(tuple_1)"
      ],
      "metadata": {
        "colab": {
          "base_uri": "https://localhost:8080/"
        },
        "id": "3ye8Z7LU37BD",
        "outputId": "03205a91-0188-483e-c3e8-d719085b195c"
      },
      "execution_count": null,
      "outputs": [
        {
          "output_type": "stream",
          "name": "stdout",
          "text": [
            "[1, 2, 3, 'Sneha', 'Data Science']\n",
            "[1, 2, 3, 'pw skills', 'Data Science']\n",
            "(1, 2, 3, 'Sneha', 'Data Science')\n"
          ]
        }
      ]
    },
    {
      "cell_type": "code",
      "source": [
        "# Ques-6\n",
        "\n",
        "# Mutable-> The list can be change\n",
        "\n",
        "list_1=[(3+7j),4.5,\"my\",\"Mango\"]\n",
        "print(list_1)\n",
        "list_1[2]=\"Pineapple\"\n",
        "print(list_1)\n",
        "\n",
        "# Immutable-> The String can't be changed\n",
        "\n",
        "Str_1=\"Sneha\"\n",
        "print(Str_1)\n",
        "#Str_1[2]=\"a\"\n",
        "#print(Str_1)"
      ],
      "metadata": {
        "colab": {
          "base_uri": "https://localhost:8080/"
        },
        "id": "ge-ukyzy4WRu",
        "outputId": "952192c1-b017-40f5-95fd-88ee76b1dc8b"
      },
      "execution_count": null,
      "outputs": [
        {
          "output_type": "stream",
          "name": "stdout",
          "text": [
            "[(3+7j), 4.5, 'my', 'Mango']\n",
            "[(3+7j), 4.5, 'Pineapple', 'Mango']\n",
            "Sneha\n"
          ]
        }
      ]
    },
    {
      "cell_type": "code",
      "source": [
        "# Ques-7\n",
        "num_1=int(input(\"Enter a number \"))\n",
        "num_2=int(input(\"Enter a number \"))\n",
        "print(f\"The sum of {num_1} and {num_2} is {num_1+num_2}\")\n",
        "print(f\"The difference of {num_1} and {num_2} is {num_1-num_2}\")\n",
        "print(f\"The product of {num_1} and {num_2} is {num_1*num_2}\")\n",
        "print(f\"The division of {num_1} and {num_2} is {num_1/num_2}\")"
      ],
      "metadata": {
        "colab": {
          "base_uri": "https://localhost:8080/"
        },
        "id": "m_lE_lws4Mbp",
        "outputId": "5cd50335-3f3d-4ac6-e9aa-1a3e0c8f4302"
      },
      "execution_count": null,
      "outputs": [
        {
          "output_type": "stream",
          "name": "stdout",
          "text": [
            "Enter a number 42\n",
            "Enter a number 12\n",
            "The sum of 42 and 12 is 54\n",
            "The difference of 42 and 12 is 30\n",
            "The product of 42 and 12 is 504\n",
            "The division of 42 and 12 is 3.5\n"
          ]
        }
      ]
    },
    {
      "cell_type": "code",
      "source": [
        "# Ques-8\n",
        "a=True\n",
        "b=False\n",
        "print(a and b)\n",
        "print(a or b)\n",
        "print(not a)\n",
        "print(not b)"
      ],
      "metadata": {
        "colab": {
          "base_uri": "https://localhost:8080/"
        },
        "id": "8hG1Zjs39uKW",
        "outputId": "4a71603d-62de-43e7-daf5-61a643614120"
      },
      "execution_count": null,
      "outputs": [
        {
          "output_type": "stream",
          "name": "stdout",
          "text": [
            "False\n",
            "True\n",
            "False\n",
            "True\n"
          ]
        }
      ]
    },
    {
      "cell_type": "code",
      "source": [
        "# Ques-9\n",
        "num = input(\"Enter a number \")\n",
        "type(num)\n",
        "num=int(num)\n",
        "type(num)\n",
        "num=float(num)\n",
        "type(num)\n",
        "num= bool(num)\n",
        "type(num)"
      ],
      "metadata": {
        "colab": {
          "base_uri": "https://localhost:8080/"
        },
        "id": "-9coM2Q76xuQ",
        "outputId": "7fb8ed70-c51f-487e-d099-b7ea85007266"
      },
      "execution_count": null,
      "outputs": [
        {
          "name": "stdout",
          "output_type": "stream",
          "text": [
            "Enter a number 0\n"
          ]
        },
        {
          "output_type": "execute_result",
          "data": {
            "text/plain": [
              "bool"
            ]
          },
          "metadata": {},
          "execution_count": 29
        }
      ]
    },
    {
      "cell_type": "code",
      "source": [
        "# Ques-10\n",
        "\n",
        "list_1=[1,\"89.65\",\"DSA\",\"Science\",(2+3j),0]\n",
        "type(list_1[1])\n",
        "list_1[1]=float(list_1[1])\n",
        "type(list_1[1])\n",
        "#print(list_1)"
      ],
      "metadata": {
        "colab": {
          "base_uri": "https://localhost:8080/"
        },
        "id": "eRxI18xZ6UvK",
        "outputId": "fb0b4c5c-a367-418b-aa75-4499d1124301"
      },
      "execution_count": null,
      "outputs": [
        {
          "output_type": "stream",
          "name": "stdout",
          "text": [
            "[1, 89.65, 'DSA', 'Science', (2+3j), 0]\n"
          ]
        }
      ]
    },
    {
      "cell_type": "code",
      "source": [
        "# Ques-11\n",
        "num = int(input(\"Input a Number\"))\n",
        "if num<0:\n",
        "  print(\"Number is Negative\")\n",
        "elif num>0:\n",
        "  print(\"Number is Positive\")\n",
        "else:\n",
        "  print(\"Number is Zero\")"
      ],
      "metadata": {
        "colab": {
          "base_uri": "https://localhost:8080/"
        },
        "id": "My517amWo1ez",
        "outputId": "163437ee-e2a1-4c4e-8a98-b81a40806d2c"
      },
      "execution_count": null,
      "outputs": [
        {
          "output_type": "stream",
          "name": "stdout",
          "text": [
            "Input a Number0\n",
            "Number is Zero\n"
          ]
        }
      ]
    },
    {
      "cell_type": "code",
      "source": [
        "# Ques-12\n",
        "for i in range(1,11):\n",
        "  print(i)"
      ],
      "metadata": {
        "colab": {
          "base_uri": "https://localhost:8080/"
        },
        "id": "5-4EIlrGpldu",
        "outputId": "24121d64-611f-4dbc-f249-1c9edecec02d"
      },
      "execution_count": null,
      "outputs": [
        {
          "output_type": "stream",
          "name": "stdout",
          "text": [
            "1\n",
            "2\n",
            "3\n",
            "4\n",
            "5\n",
            "6\n",
            "7\n",
            "8\n",
            "9\n",
            "10\n"
          ]
        }
      ]
    },
    {
      "cell_type": "code",
      "source": [
        "# Ques-13\n",
        "sum =0\n",
        "for i in range(1,51):\n",
        "  if i%2==0:\n",
        "    sum+=i\n",
        "print(f\"The sum of even numbers from 1 to 50 is {sum}\")"
      ],
      "metadata": {
        "colab": {
          "base_uri": "https://localhost:8080/"
        },
        "id": "Eew2p3v3p7gz",
        "outputId": "6c8f84e7-47de-419a-c9d9-383358171831"
      },
      "execution_count": null,
      "outputs": [
        {
          "output_type": "stream",
          "name": "stdout",
          "text": [
            "The sum of even numbers from 1 to 50 is 650\n"
          ]
        }
      ]
    },
    {
      "cell_type": "code",
      "source": [
        "# Ques-14\n",
        "name = input(\"Enter a string \")\n",
        "i=len(name)-1\n",
        "while i>=0:\n",
        "  print(name[i],end=\"\")\n",
        "  i-=1\n",
        "\n"
      ],
      "metadata": {
        "colab": {
          "base_uri": "https://localhost:8080/"
        },
        "id": "utWpvuJY2_sJ",
        "outputId": "8d05601b-7cb9-4264-c172-4b722777a25c"
      },
      "execution_count": null,
      "outputs": [
        {
          "output_type": "stream",
          "name": "stdout",
          "text": [
            "Enter a string pw skills\n",
            "slliks wp"
          ]
        }
      ]
    },
    {
      "cell_type": "code",
      "source": [
        "#Ques-15\n",
        "num = int(input(\"Enter a Number \"))\n",
        "fact =1\n",
        "while num>0:\n",
        "  fact*=num\n",
        "  num-=1\n",
        "print(f\"The factorial of the number is {fact}\")\n"
      ],
      "metadata": {
        "id": "x3PDVeS3qSWY",
        "colab": {
          "base_uri": "https://localhost:8080/"
        },
        "outputId": "4b36ef2a-cb67-4c3a-920b-88a8c2063d6b"
      },
      "execution_count": null,
      "outputs": [
        {
          "output_type": "stream",
          "name": "stdout",
          "text": [
            "Enter a Number 5\n",
            "The factorial of the number is 120\n"
          ]
        }
      ]
    },
    {
      "cell_type": "markdown",
      "source": [
        "# THEORITICAL **QUESTION**"
      ],
      "metadata": {
        "id": "odcyzHkq-ORk"
      }
    },
    {
      "cell_type": "markdown",
      "source": [
        "ANS-1-> Python is a programming language which is used in technical field for development of softwares . It was developed by Guido Van Rossum. It is very popular because of its simple syntax, Easy to learn and the collection of huge libraries (for each field python has different different libraries).It is open source which means anybody can contribute to it which led to its never ending development"
      ],
      "metadata": {
        "id": "gM2doW0n-Xlm"
      }
    },
    {
      "cell_type": "markdown",
      "source": [
        "ANS-2 --> Python is an interpreted languaue. Interpreter generally means in which the code is executed by line by line not like java in which the code execution starts from main function. In python the code executes by line by line."
      ],
      "metadata": {
        "id": "bV9e-RQl_ZJj"
      }
    },
    {
      "cell_type": "markdown",
      "source": [
        "ANS-3--> Pre-defined keywords are the words in python those have some pre-built functionalities in python. We can't create the variables same name as predefined keywords."
      ],
      "metadata": {
        "id": "qfkbHVpO_4cP"
      }
    },
    {
      "cell_type": "markdown",
      "source": [
        "ANS-4--> No, keywords can't be used as variable names"
      ],
      "metadata": {
        "id": "BpafqXNFBdfd"
      }
    },
    {
      "cell_type": "markdown",
      "source": [
        "ANS-5-->Mutablility means the data can change. Like in list or set we can change the data .\n",
        "list_1=[1.5.7.8,\"College\",\"Circle\"]\n",
        "list_1[1]=\"Sneha\"\n",
        "print(list_1)\n",
        "\n",
        "\n",
        "Output ->\n",
        "[1.5,\"Sneha\",\"College\",\"Circle\"]\n",
        "\n",
        "This is called mutable data type in which the data can change."
      ],
      "metadata": {
        "id": "QWEMTac5BpDg"
      }
    },
    {
      "cell_type": "markdown",
      "source": [
        "ANS-6--> list are mutable because they are designed to be flexible container and list is implemented using dynamic arrays.\n",
        "\n",
        " Tuple are immutable because they are designed to be fixed collections . they don't use the method such as append() because of its immutable nature."
      ],
      "metadata": {
        "id": "HeRuafe8MN_w"
      }
    },
    {
      "cell_type": "markdown",
      "source": [
        "ANS-7 --> \"==\" operator is used to check the value between variables like:\n",
        "a=7\n",
        "b=8\n",
        "a==b\n",
        "then it will check that the value of a and b is same or not and based on that it will give true or false.\n",
        "\n",
        "\"is\" operator is used to check the same memory allocationof variables like:\n",
        "a=7\n",
        "b=a\n",
        "b is a\n",
        "here we have assign the memory allocation of a to b and is operator is checking the same memory allocation of both variables and based on that it will give true or false"
      ],
      "metadata": {
        "id": "KDIY-XThC3aX"
      }
    },
    {
      "cell_type": "markdown",
      "source": [
        "ANS-8 --> Logical Operator are the operator like and , or, not\n",
        "\n",
        "\n",
        "*   And Opeartor -> It gives True when both the variables are true if one of them is false then the ans is false\n",
        "1.a=True\n",
        "b=False\n",
        "a and b\n",
        "False\n",
        "2. a=True\n",
        "   b= True\n",
        "   a And b\n",
        "   True\n",
        "  \n",
        "3. a= False\n",
        "   b= True\n",
        "   a And b\n",
        "    FALSE\n",
        "\n",
        "4. a= False\n",
        "   b= False\n",
        "   a And b\n",
        "   False\n",
        "\n",
        "*   OR Operator -> It gives False only when both are false otherwise it gives only true\n",
        "\n",
        "1. a= True\n",
        "   b= True\n",
        "   a Or b\n",
        "   True\n",
        "2. a= False\n",
        "   b= True\n",
        "   a Or b\n",
        "   True\n",
        "3. a= True\n",
        "   b= False\n",
        "   a Or b\n",
        "   True\n",
        "4. a= False\n",
        "   b= False\n",
        "   a Or b\n",
        "   False\n",
        "\n",
        "\n",
        "\n",
        "*   NOT Operator -> It gives opposite. if it is true it will give true , it is false then it will give true\n",
        "\n",
        "a= True\n",
        "b= False\n",
        "1. not a = False\n",
        "2. not b = True\n",
        "\n",
        "\n",
        "\n",
        "\n",
        "\n"
      ],
      "metadata": {
        "id": "E-jYc3HbEQES"
      }
    },
    {
      "cell_type": "markdown",
      "source": [
        "ANS-9 --> Type casting means to change the type of the data . It can be done in two ways explicit and implicit ."
      ],
      "metadata": {
        "id": "F9t3526ZHZvR"
      }
    },
    {
      "cell_type": "markdown",
      "source": [
        "ANS-10 -->Implicit TypeCasting--> when the interpreter itself defines the type of the variable it happens during declaring and defining the variable . what type of data we store in variable the variable will be of that data type by default. it is known as implicit typecasting.\n",
        "a= 12\n",
        "here the data type of a is integer\n",
        "name =\"Sneha\"\n",
        "Here the data type is string\n",
        "\n",
        "Explicit Typecasting--> by externally changing the data type of a variable . such as input function takes every data in string format but we need to convert that string into different - different datatype such as int, float, boolean to perform actions there we use the explicit typecasting.\n",
        "\n",
        "a= \"7.9\"\n",
        "a= float(a)\n",
        "print (a)-->\n",
        "7.9"
      ],
      "metadata": {
        "id": "orzsJqwjH1lM"
      }
    },
    {
      "cell_type": "markdown",
      "source": [
        "\n",
        "ANS-11--> Conditional statements are those statements which are used to perform conditions . Generally python have 3 type of conditional statement .i.e.\n",
        "1. if-else statement\n",
        "2. if-elif-else statement\n",
        "3. nested if-else statement\n",
        "\n",
        "--> if-else-:In the if block we usually put the condition and then the body and if the condition is false then the else block will run.\n",
        " syntax-\n",
        "\n",
        "  if condition :\n",
        "    body\n",
        "\n",
        "  else:\n",
        "    body\n",
        "\n",
        "--> if-elif-else statement-: In this if is used to check the condition , if the condition is true then if block runs otherwise it goes to elif block and again check the condition if the elif condition is true then that block runs if either of them is not true then the else block will run.\n",
        "\n",
        "syntax -:\n",
        "\n",
        " if condition:\n",
        "    body\n",
        "\n",
        " elif condition:\n",
        "    body\n",
        "\n",
        " else:\n",
        "    body\n",
        "\n",
        "--> nested if-else statement-: when there is a condition inside the condition there we use nested if- else statement.\n",
        "\n",
        " syntax-:\n",
        "  if condition:\n",
        "\n",
        "    if condition: body\n",
        "\n",
        "    else: body\n",
        "\n",
        "  elif condition:\n",
        "\n",
        "    if condition: body\n",
        "\n",
        "    else:body\n",
        "\n",
        "  else:body\n",
        "     \n",
        "\n",
        "\n"
      ],
      "metadata": {
        "id": "R1CJAjvLKTIi"
      }
    },
    {
      "cell_type": "markdown",
      "source": [
        "ANS-12--> elif statement\n",
        "\n",
        "when there are two or more conditions used in a program there elif comes in the picture . We have written the if condition but still more conditions are left to write there  we use the elif condition . We will understand this by an example.\n",
        "\n",
        "We have to write a program to check among 3 numbers which number is greatest.\n",
        "\n",
        "suppose this numbers are a,b,c\n",
        " so first we check that a is big from b or not\n",
        "\n",
        " if a>b:\n",
        "\n",
        "    if a>c:\n",
        "       print(f\"{a} is greater\")\n",
        "    else:\n",
        "       print(f\"{c}is greater\")\n",
        "\n",
        " elif b>c:\n",
        "\n",
        "    print(f\"{b} is greater\")\n",
        "\n",
        " else:\n",
        "  \n",
        "    print(f\"{c} is greater\")"
      ],
      "metadata": {
        "id": "371sWDZEDi_i"
      }
    },
    {
      "cell_type": "markdown",
      "source": [
        "ANS-13-->For loop-:\n",
        "\n",
        "1.it is used when the number of iteration is known.\n",
        "\n",
        "2.it is designed for iterating over sequences such as list, tuple, set , string etc.\n",
        "\n",
        "3.Syntax-:\n",
        "\n",
        " for item in iterable:\n",
        "    body to be executed\n",
        "\n",
        "\n",
        "*  while loop-:\n",
        "\n",
        "1. It is used when the number of iteration doesn't know .\n",
        "2. It is used over a specific condition until that condition is not false.\n",
        "3. Syntax-:\n",
        "\n",
        "   while condition:\n",
        "     body\n",
        "\n"
      ],
      "metadata": {
        "id": "0q8tt_anGuXe"
      }
    },
    {
      "cell_type": "markdown",
      "source": [
        "ANS-14--> While loop is more suitable than a for loop in the case where the number of iteration is not known or when the logic doesn't fit into the rigid model of for loop there we use the while loop instead of using the for loop"
      ],
      "metadata": {
        "id": "BTPDYjsHJb7Y"
      }
    }
  ]
}